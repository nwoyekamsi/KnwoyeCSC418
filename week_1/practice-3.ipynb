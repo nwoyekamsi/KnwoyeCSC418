{
 "cells": [
  {
   "cell_type": "markdown",
   "id": "e5f769bd",
   "metadata": {},
   "source": [
    "# SAVING AN IMAGE "
   ]
  },
  {
   "cell_type": "code",
   "execution_count": 3,
   "id": "1139daca",
   "metadata": {},
   "outputs": [
    {
     "name": "stdout",
     "output_type": "stream",
     "text": [
      "Before saving mage:\n",
      "['puppy.jpeg']\n",
      "After saving image: \n",
      "['grayImage.jpg', 'puppy.jpeg']\n",
      "Successfully saved\n"
     ]
    }
   ],
   "source": [
    "# pyhton program to exlpain cv2.imwrite() method\n",
    "\n",
    "#importing cv2\n",
    "import cv2\n",
    "\n",
    "#importing os module\n",
    "import os\n",
    "\n",
    "#image path\n",
    "image_path = r'C:\\Users\\USER\\Documents\\knwoyecsc418\\week_1\\img\\puppy.jpeg'\n",
    "\n",
    "#image directory\n",
    "directory = r'C:\\Users\\USER\\Documents\\knwoyecsc418\\week_1\\img'\n",
    "\n",
    "#using cv2.imread() method to read the image \n",
    "img = cv2.imread(image_path, 0)\n",
    "\n",
    "# Change the current directory to specified directory\n",
    "os.chdir(directory)\n",
    "\n",
    "# LIST files and directories\n",
    "print(\"Before saving mage:\")\n",
    "print(os.listdir(directory))\n",
    "\n",
    "#filename\n",
    "filename = 'grayImage.jpg'\n",
    "\n",
    "#using cv2.imwrite() method save the image\n",
    "cv2.imwrite(filename, img)\n",
    "\n",
    "#list files and directories\n",
    "print(\"After saving image: \")\n",
    "print(os.listdir(directory))\n",
    "\n",
    "print('Successfully saved')"
   ]
  },
  {
   "cell_type": "code",
   "execution_count": null,
   "id": "ca89eb3c",
   "metadata": {},
   "outputs": [],
   "source": []
  }
 ],
 "metadata": {
  "kernelspec": {
   "display_name": "Python 3 (ipykernel)",
   "language": "python",
   "name": "python3"
  },
  "language_info": {
   "codemirror_mode": {
    "name": "ipython",
    "version": 3
   },
   "file_extension": ".py",
   "mimetype": "text/x-python",
   "name": "python",
   "nbconvert_exporter": "python",
   "pygments_lexer": "ipython3",
   "version": "3.9.13"
  }
 },
 "nbformat": 4,
 "nbformat_minor": 5
}
