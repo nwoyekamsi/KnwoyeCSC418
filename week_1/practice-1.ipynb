{
 "cells": [
  {
   "cell_type": "code",
   "execution_count": 1,
   "id": "038678fa",
   "metadata": {},
   "outputs": [],
   "source": [
    "#Importing the OpenCV library\n",
    "import cv2\n",
    "\n",
    "#path\n",
    "\n",
    "path = 'img\\puppy.jpeg'\n",
    "\n",
    "#readinig the image using imread() function \n",
    "\n",
    "img = cv2.imread(path)\n",
    "\n",
    "#window name in which image is displayed \n",
    "\n",
    "window_name = 'Display Image'\n",
    "\n",
    "#Display image \n",
    "cv2.imshow(window_name, img)\n",
    "\n",
    "#Hold the window\n",
    "cv2.waitKey(0)\n",
    "\n",
    "# Remove/ Delete created GUI window from screen and memory \n",
    "cv2.destroyAllWindows()"
   ]
  },
  {
   "cell_type": "code",
   "execution_count": 2,
   "id": "e80df328",
   "metadata": {},
   "outputs": [],
   "source": [
    "import cv2"
   ]
  },
  {
   "cell_type": "code",
   "execution_count": 3,
   "id": "668b4fd8",
   "metadata": {},
   "outputs": [
    {
     "name": "stdout",
     "output_type": "stream",
     "text": [
      "4.6.0\n"
     ]
    }
   ],
   "source": [
    "print(cv2.__version__)"
   ]
  },
  {
   "cell_type": "code",
   "execution_count": null,
   "id": "696335ad",
   "metadata": {},
   "outputs": [],
   "source": []
  }
 ],
 "metadata": {
  "kernelspec": {
   "display_name": "Python 3 (ipykernel)",
   "language": "python",
   "name": "python3"
  },
  "language_info": {
   "codemirror_mode": {
    "name": "ipython",
    "version": 3
   },
   "file_extension": ".py",
   "mimetype": "text/x-python",
   "name": "python",
   "nbconvert_exporter": "python",
   "pygments_lexer": "ipython3",
   "version": "3.9.13"
  }
 },
 "nbformat": 4,
 "nbformat_minor": 5
}
