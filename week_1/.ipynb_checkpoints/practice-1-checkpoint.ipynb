{
 "cells": [
  {
   "cell_type": "code",
   "execution_count": 1,
   "id": "038678fa",
   "metadata": {},
   "outputs": [],
   "source": [
    "#Importing the OpenCV library\n",
    "import cv2\n",
    "\n",
    "#path\n",
    "\n",
    "path = 'img/puppy.jpg'\n",
    "\n",
    "#readinig the image using imread() function \n",
    "\n",
    "img = cv2.imread(path)\n",
    "\n",
    "#window name in which image is displayed \n",
    "\n",
    "window_name = 'Display Image'\n",
    "\n",
    "#Display image \n",
    "cv2.imshow(window_name, img)\n",
    "\n",
    "#Hold the window\n",
    "cv2.waitkey(0)\n",
    "\n",
    "# Remove/ Delete created GUI window from screen and memory \n",
    "cv2.destroyAllWindows()"
   ]
  },
  {
   "cell_type": "code",
   "execution_count": null,
   "id": "e80df328",
   "metadata": {},
   "outputs": [],
   "source": []
  }
 ],
 "metadata": {
  "kernelspec": {
   "display_name": "Python 3 (ipykernel)",
   "language": "python",
   "name": "python3"
  },
  "language_info": {
   "codemirror_mode": {
    "name": "ipython",
    "version": 3
   },
   "file_extension": ".py",
   "mimetype": "text/x-python",
   "name": "python",
   "nbconvert_exporter": "python",
   "pygments_lexer": "ipython3",
   "version": "3.9.13"
  }
 },
 "nbformat": 4,
 "nbformat_minor": 5
}
