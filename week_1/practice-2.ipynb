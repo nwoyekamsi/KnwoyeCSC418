{
 "cells": [
  {
   "cell_type": "markdown",
   "id": "3f67fd48",
   "metadata": {},
   "source": [
    "# Reading images in grayscale mode"
   ]
  },
  {
   "cell_type": "code",
   "execution_count": 4,
   "id": "427e44ad",
   "metadata": {},
   "outputs": [],
   "source": [
    "#importing the opencv library\n",
    "import cv2\n",
    "\n",
    "# path\n",
    "path = 'img\\puppy.jpeg'\n",
    "\n",
    "#reading the img using imread() funtion \n",
    "img = cv2.imread(path)\n",
    "\n",
    "#Window name in whichimage is dispalyed \n",
    "\n",
    "window_name = 'VR Headset'\n",
    "\n",
    "#Display image \n",
    "cv2.imshow(window_name, img)\n",
    "\n",
    "#hold the window\n",
    "cv2.waitKey(0)\n",
    "\n",
    "#remove/delete created GUI window from screen and memory\n",
    "cv2.destroyAllWindows()"
   ]
  },
  {
   "cell_type": "code",
   "execution_count": null,
   "id": "58874907",
   "metadata": {},
   "outputs": [],
   "source": []
  }
 ],
 "metadata": {
  "kernelspec": {
   "display_name": "Python 3 (ipykernel)",
   "language": "python",
   "name": "python3"
  },
  "language_info": {
   "codemirror_mode": {
    "name": "ipython",
    "version": 3
   },
   "file_extension": ".py",
   "mimetype": "text/x-python",
   "name": "python",
   "nbconvert_exporter": "python",
   "pygments_lexer": "ipython3",
   "version": "3.9.13"
  }
 },
 "nbformat": 4,
 "nbformat_minor": 5
}
