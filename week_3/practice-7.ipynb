{
 "cells": [
  {
   "cell_type": "markdown",
   "id": "d6dd3b39",
   "metadata": {},
   "source": [
    "# image blurring"
   ]
  },
  {
   "cell_type": "code",
   "execution_count": null,
   "id": "e4af7459",
   "metadata": {},
   "outputs": [],
   "source": [
    "#import libraries\n",
    "import cv2\n",
    "\n",
    "image = cv2.imread(r'C:\\Users\\USER\\Documents\\csc418\\week_2\\img\\puppy.jpeg', 0)\n",
    "\n",
    "cv2.imshow('original image', image)\n",
    "cv2.waitKey(0)\n",
    "\n",
    "#Guassian blur\n",
    "Gaussian = cv2.GaussianBlur(image,(7, 7), 0)\n",
    "cv2.imshow('Gaussian Blurring', Gaussian)\n",
    "\n",
    "#median blur\n",
    "median = cv2.medianBlur(image, 5)\n",
    "cv2.imshow(\"Median Blurring\",median)\n",
    "cv2.waitKey(0)\n",
    "\n",
    "#Bilateral Blur\n",
    "bilateral = cv2.bilateralFilter(image, 9, 75, 75)\n",
    "cv2.imshow('Bilateral Blurring', bilateral)\n",
    "cv2.waitkey(0)\n",
    "cv2.destroyAllWindows()"
   ]
  },
  {
   "cell_type": "code",
   "execution_count": null,
   "id": "f5a27c5a",
   "metadata": {},
   "outputs": [],
   "source": []
  }
 ],
 "metadata": {
  "kernelspec": {
   "display_name": "Python 3 (ipykernel)",
   "language": "python",
   "name": "python3"
  },
  "language_info": {
   "codemirror_mode": {
    "name": "ipython",
    "version": 3
   },
   "file_extension": ".py",
   "mimetype": "text/x-python",
   "name": "python",
   "nbconvert_exporter": "python",
   "pygments_lexer": "ipython3",
   "version": "3.9.13"
  }
 },
 "nbformat": 4,
 "nbformat_minor": 5
}
