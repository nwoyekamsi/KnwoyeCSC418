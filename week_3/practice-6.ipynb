{
 "cells": [
  {
   "cell_type": "markdown",
   "id": "b5319615",
   "metadata": {},
   "source": [
    "# SHEARED IMAGE IN Y-AXIS"
   ]
  },
  {
   "cell_type": "code",
   "execution_count": null,
   "id": "f99780b1",
   "metadata": {},
   "outputs": [],
   "source": [
    "import numpy as np\n",
    "import matplotlib.pyplot as plt\n",
    "import cv2 as cv\n",
    "\n",
    "img = cv.imread(r'C:\\Users\\USER\\Documents\\csc418\\week_2\\img\\puppy.jpeg', 0)\n",
    "rows, cols = img.shape\n",
    "\n",
    "plt.subplot(1,2,1)\n",
    "plt.title(\"Original\")\n",
    "plt.imshow(img)\n",
    "\n",
    "M = np.float32([[1,0,0], [0.5,1,0], [0,0,1]])\n",
    "sheared_img = cv.warpPerspective(img, M,(int(cols*1.5), int(rows*1.5)))\n",
    "\n",
    "plt.subplot(1,2,2)\n",
    "plt.title(\"Sheared Image Y-Axis\")\n",
    "plt.imshow(sheared_img)\n",
    "\n",
    "cv.imshow('img', sheared_img)\n",
    "cv.waitKey(0)\n",
    "cv.destroyAllWindows()"
   ]
  }
 ],
 "metadata": {
  "kernelspec": {
   "display_name": "Python 3 (ipykernel)",
   "language": "python",
   "name": "python3"
  },
  "language_info": {
   "codemirror_mode": {
    "name": "ipython",
    "version": 3
   },
   "file_extension": ".py",
   "mimetype": "text/x-python",
   "name": "python",
   "nbconvert_exporter": "python",
   "pygments_lexer": "ipython3",
   "version": "3.9.13"
  }
 },
 "nbformat": 4,
 "nbformat_minor": 5
}
