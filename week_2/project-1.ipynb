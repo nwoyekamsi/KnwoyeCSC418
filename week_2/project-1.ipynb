{
 "cells": [
  {
   "cell_type": "markdown",
   "id": "e7d007b7",
   "metadata": {},
   "source": [
    "# FACE RECOGNITION OF UMC MEMBERS"
   ]
  },
  {
   "cell_type": "code",
   "execution_count": null,
   "id": "17c3f0fe",
   "metadata": {},
   "outputs": [
    {
     "name": "stdout",
     "output_type": "stream",
     "text": [
      "Enter your first name: enase_1\n",
      "Enter your surname: enase\n",
      "Login Successful!\n"
     ]
    }
   ],
   "source": [
    "import cv2\n",
    "import os\n",
    "\n",
    "#Users databse (username: {surname, image_path})\n",
    "\n",
    "users = {\n",
    "    \"enase_1\" : {\"surname\" : \"enase\",\n",
    "                 \"image_path\": r'C:\\Users\\USER\\Documents\\KnwoyeCSC418\\week_2\\img\\enase.jpg'}\n",
    "}\n",
    "\n",
    "\n",
    "#Authentication function\n",
    "\n",
    "def authenticate(username, password):\n",
    "    username = username.lower()\n",
    "    if username in users:\n",
    "        expected_password = len(users[username][\"surname\"])\n",
    "        if expected_password == password:\n",
    "            return users[username][\"image_path\"]\n",
    "    return None\n",
    "\n",
    "#Display profile image \n",
    "\n",
    "def show_img(image_path):\n",
    "    if os.path.exists(image_path):\n",
    "        img = cv2.imread(image_path)\n",
    "        cv2.imshow(\"User Profile\", img)\n",
    "        cv2.waitKey(0)\n",
    "        cv2.destroyAllWindows()\n",
    "    else:\n",
    "        print(\"Image not found\")\n",
    "        \n",
    "        \n",
    "#Facial Recognition\n",
    "def detect_face(image_path):\n",
    "    face_cascade = cv2.CascadeClassifier(cv2.data.haarcascades + \"haarcascade_frontalface_default.xml\")\n",
    "    img = cv2.imread(image_path)\n",
    "    gray = cv2.cvtColor(img, cv2.COLOR_BGR2GRAY)\n",
    "    faces = face_cascade.detectMultiScale(gray, 1.1, 4)\n",
    "    \n",
    "    for (x, y, w, h) in faces:\n",
    "        cv2.rectangle(img, (x, y), (x + w, y + h), (255, 0, 0), 2)\n",
    "    \n",
    "    cv2.imshow(\"Detected Face\", img)\n",
    "    cv2.waitKey(0)\n",
    "    cv2.destroyAllWindows()\n",
    "\n",
    "  \n",
    "\n",
    "if __name__ == \"__main__\":\n",
    "    username = input(\"Enter your first name: \")\n",
    "    surname = input(\"Enter your surname: \")\n",
    "    password = len(surname)  # Generate password\n",
    "\n",
    "    image_path = authenticate(username, password)\n",
    "\n",
    "    if image_path:\n",
    "        print(\"Login Successful!\")\n",
    "        show_img(image_path)  # Display profile picture\n",
    "        detect_face(image_path)  # Run facial detection\n",
    "    else:\n",
    "        print(\"Invalid username or password.\")\n",
    "\n",
    "    "
   ]
  },
  {
   "cell_type": "code",
   "execution_count": null,
   "id": "48d0e244",
   "metadata": {},
   "outputs": [],
   "source": []
  }
 ],
 "metadata": {
  "kernelspec": {
   "display_name": "Python 3 (ipykernel)",
   "language": "python",
   "name": "python3"
  },
  "language_info": {
   "codemirror_mode": {
    "name": "ipython",
    "version": 3
   },
   "file_extension": ".py",
   "mimetype": "text/x-python",
   "name": "python",
   "nbconvert_exporter": "python",
   "pygments_lexer": "ipython3",
   "version": "3.9.13"
  }
 },
 "nbformat": 4,
 "nbformat_minor": 5
}
